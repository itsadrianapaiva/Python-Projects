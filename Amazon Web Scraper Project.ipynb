{
 "cells": [
  {
   "cell_type": "markdown",
   "id": "f1138d74-a6a8-4567-88c7-b9083acfba1b",
   "metadata": {},
   "source": [
    "# Amazon Web Scraping"
   ]
  },
  {
   "cell_type": "markdown",
   "id": "5c0c2b14-ad0a-4281-b474-13cd9d7ac808",
   "metadata": {},
   "source": [
    "In this project, I developed a web scraping tool using Python and the BeautifulSoup library to extract product information from Amazon. The tool efficiently retrieves data such as product titles, prices and ratings from Amazon product pages. It navigates through HTML structures, identifies key data elements, and input the extracted information for further analysis. This project demonstrates the application of web scraping techniques in e-commerce, enabling the automated collection of data for market research, price comparison, and trend analysis while adhering to ethical scraping practices and Amazon's terms of service."
   ]
  },
  {
   "cell_type": "code",
   "execution_count": 1,
   "id": "2ab5aa58-df8c-47a4-a226-6bdab95d51a1",
   "metadata": {},
   "outputs": [],
   "source": [
    "# Importing libraries\n",
    "\n",
    "from bs4 import BeautifulSoup\n",
    "import requests\n",
    "import time\n",
    "import datetime\n",
    "import smtplib"
   ]
  },
  {
   "cell_type": "code",
   "execution_count": 12,
   "id": "4dd5b740-aa0f-4777-b2de-141405472a04",
   "metadata": {
    "scrolled": true
   },
   "outputs": [
    {
     "name": "stdout",
     "output_type": "stream",
     "text": [
      "Mini Retro Games Console, 150 In-Built Games, 8-Bit Retro Gaming Handheld Console, 1.8” Full Colour LCD Screen Pocket Console, Immersive Sound Games Console - ThumbsUp!\n",
      "16.99\n",
      "4.2\n"
     ]
    }
   ],
   "source": [
    "# Connecting to website, getting the info and cleaning it up\n",
    "\n",
    "URL = 'https://www.amazon.co.uk/Console-Built-Gaming-Handheld-Immersive/dp/B01H7JD64S/ref=sr_1_8?crid=3EL7W5BETJ42G&dib=eyJ2IjoiMSJ9.BywvmPUALh3yuishmxxrc5TbQRpAN_CIbtlpiSn1DfvTSjijgChujDp5AgAJqgPzAbJUg4KIX2zbNScvg_gjPi2NmUkM1Ln4PJGY6t8ott04YgtE4ZaSpqUht23qXxa-iUseHZaQwOOKUo2L2waeCSOYOFZN_zCR0eo6lhTT8szQ8rimYs9AtgbHHULikoWMPZ2scQ6al3XneyikYrcAbok668Jv-jaoTsTmbcrpMmBJBxOOv-GEc6YreD6K6HHXljRzEKm7cPuLgY0L3MmascViXx_pOD89XzjoZpq7EVE.4PJ-XMS02Ql4xEPCFh0YHh5mN1w-JqWKfbrG1UYwpow&dib_tag=se&keywords=tech%2Bgadgets&qid=1723553215&sprefix=tech%2Caps%2C152&sr=8-8&th=1'\n",
    "\n",
    "headers = {\"User-Agent\": \"Mozilla/5.0 (Windows NT 10.0; Win64; x64) AppleWebKit/537.36 (KHTML, like Gecko) Chrome/127.0.0.0 Safari/537.36\"}\n",
    "\n",
    "page  = requests.get(URL, headers=headers)\n",
    "\n",
    "soup1 = BeautifulSoup(page.content, 'html.parser')\n",
    "\n",
    "soup2 = BeautifulSoup(soup1.prettify(), 'html.parser')\n",
    "\n",
    "title = soup2.find(id='productTitle').get_text(strip=True)\n",
    "\n",
    "price = soup2.find(\"span\", class_=\"a-price aok-align-center reinventPricePriceToPayMargin priceToPay\").get_text(strip=True)\n",
    "price = price.strip()[1:]\n",
    "\n",
    "rating = soup2.find(\"span\", class_=\"a-size-medium a-color-base\").get_text(strip=True)\n",
    "rating = rating.strip()[:3]\n",
    "\n",
    "print(title)\n",
    "print(price)\n",
    "print(rating)"
   ]
  },
  {
   "cell_type": "code",
   "execution_count": 13,
   "id": "a60e7a9d-5dd3-47ce-a0b1-6856716506a8",
   "metadata": {},
   "outputs": [
    {
     "name": "stdout",
     "output_type": "stream",
     "text": [
      "2024-08-13\n"
     ]
    }
   ],
   "source": [
    "# Adding a timestamp to know when the data was collected\n",
    "\n",
    "import datetime\n",
    "today = datetime.date.today()\n",
    "print(today)"
   ]
  },
  {
   "cell_type": "code",
   "execution_count": 14,
   "id": "480840ba-e421-4ee7-96ef-d6e92c37c305",
   "metadata": {
    "scrolled": true
   },
   "outputs": [],
   "source": [
    "# Creating a csv to append the data collected\n",
    "\n",
    "import csv\n",
    "header = ['Title', 'Price', 'Rating', 'Date']\n",
    "data = [title, price, rating, today] \n",
    "\n",
    "with open('AWSDataset.csv', 'w', newline='', encoding='UTF8') as f:\n",
    "    writer = csv.writer(f)\n",
    "    writer.writerow(header)\n",
    "    writer.writerow(data)"
   ]
  },
  {
   "cell_type": "code",
   "execution_count": 15,
   "id": "73662ac9-251d-40c0-8d3c-12e0150c5d60",
   "metadata": {},
   "outputs": [
    {
     "name": "stdout",
     "output_type": "stream",
     "text": [
      "C:\\Users\\gusta\n"
     ]
    }
   ],
   "source": [
    "# Checking to see if it's working\n",
    "\n",
    "import os\n",
    "print(os.getcwd())"
   ]
  },
  {
   "cell_type": "code",
   "execution_count": 5,
   "id": "24ef4715-8cd6-418e-917b-cc085a491fb5",
   "metadata": {
    "scrolled": true
   },
   "outputs": [
    {
     "data": {
      "text/html": [
       "<div>\n",
       "<style scoped>\n",
       "    .dataframe tbody tr th:only-of-type {\n",
       "        vertical-align: middle;\n",
       "    }\n",
       "\n",
       "    .dataframe tbody tr th {\n",
       "        vertical-align: top;\n",
       "    }\n",
       "\n",
       "    .dataframe thead th {\n",
       "        text-align: right;\n",
       "    }\n",
       "</style>\n",
       "<table border=\"1\" class=\"dataframe\">\n",
       "  <thead>\n",
       "    <tr style=\"text-align: right;\">\n",
       "      <th></th>\n",
       "      <th>Title</th>\n",
       "      <th>Price</th>\n",
       "      <th>Rating</th>\n",
       "      <th>Date</th>\n",
       "    </tr>\n",
       "  </thead>\n",
       "  <tbody>\n",
       "    <tr>\n",
       "      <th>0</th>\n",
       "      <td>Mini Retro Games Console, 150 In-Built Games, ...</td>\n",
       "      <td>16.99</td>\n",
       "      <td>4.2</td>\n",
       "      <td>2024-08-13</td>\n",
       "    </tr>\n",
       "    <tr>\n",
       "      <th>1</th>\n",
       "      <td>Mini Retro Games Console, 150 In-Built Games, ...</td>\n",
       "      <td>16.99</td>\n",
       "      <td>4.2</td>\n",
       "      <td>2024-08-13</td>\n",
       "    </tr>\n",
       "    <tr>\n",
       "      <th>2</th>\n",
       "      <td>Mini Retro Games Console, 150 In-Built Games, ...</td>\n",
       "      <td>16.99</td>\n",
       "      <td>4.2</td>\n",
       "      <td>2024-08-13</td>\n",
       "    </tr>\n",
       "  </tbody>\n",
       "</table>\n",
       "</div>"
      ],
      "text/plain": [
       "                                               Title  Price  Rating  \\\n",
       "0  Mini Retro Games Console, 150 In-Built Games, ...  16.99     4.2   \n",
       "1  Mini Retro Games Console, 150 In-Built Games, ...  16.99     4.2   \n",
       "2  Mini Retro Games Console, 150 In-Built Games, ...  16.99     4.2   \n",
       "\n",
       "         Date  \n",
       "0  2024-08-13  \n",
       "1  2024-08-13  \n",
       "2  2024-08-13  "
      ]
     },
     "execution_count": 5,
     "metadata": {},
     "output_type": "execute_result"
    }
   ],
   "source": [
    "import pandas as pd\n",
    "df = pd.read_csv(r'C:\\Users\\gusta\\AWSDataset.csv')\n",
    "df"
   ]
  },
  {
   "cell_type": "code",
   "execution_count": null,
   "id": "0ea63ce0-500b-4b65-9c81-eeb2ccf73602",
   "metadata": {},
   "outputs": [],
   "source": [
    "# Appending data to the csv\n",
    "\n",
    "with open('AWSDataset.csv', 'a+', newline='', encoding='UTF8') as f:\n",
    "    writer = csv.writer(f)\n",
    "    writer.writerow(data)"
   ]
  },
  {
   "cell_type": "code",
   "execution_count": null,
   "id": "d2803f25-a8b4-423e-9c8b-caa190206a0f",
   "metadata": {},
   "outputs": [],
   "source": [
    "# Automating the collection of the data and appending to the csv\n",
    "\n",
    "def check_price():\n",
    "    URL = 'https://www.amazon.co.uk/Console-Built-Gaming-Handheld-Immersive/dp/B01H7JD64S/ref=sr_1_8?crid=3EL7W5BETJ42G&dib=eyJ2IjoiMSJ9.BywvmPUALh3yuishmxxrc5TbQRpAN_CIbtlpiSn1DfvTSjijgChujDp5AgAJqgPzAbJUg4KIX2zbNScvg_gjPi2NmUkM1Ln4PJGY6t8ott04YgtE4ZaSpqUht23qXxa-iUseHZaQwOOKUo2L2waeCSOYOFZN_zCR0eo6lhTT8szQ8rimYs9AtgbHHULikoWMPZ2scQ6al3XneyikYrcAbok668Jv-jaoTsTmbcrpMmBJBxOOv-GEc6YreD6K6HHXljRzEKm7cPuLgY0L3MmascViXx_pOD89XzjoZpq7EVE.4PJ-XMS02Ql4xEPCFh0YHh5mN1w-JqWKfbrG1UYwpow&dib_tag=se&keywords=tech%2Bgadgets&qid=1723553215&sprefix=tech%2Caps%2C152&sr=8-8&th=1'\n",
    "    headers = {\"User-Agent\": \"Mozilla/5.0 (Windows NT 10.0; Win64; x64) AppleWebKit/537.36 (KHTML, like Gecko) Chrome/127.0.0.0 Safari/537.36\"}\n",
    "    page  = requests.get(URL, headers=headers)\n",
    "    soup1 = BeautifulSoup(page.content, 'html.parser')\n",
    "    soup2 = BeautifulSoup(soup1.prettify(), 'html.parser')\n",
    "    title = soup2.find(id='productTitle').get_text(strip=True)\n",
    "    price = soup2.find(\"span\", class_=\"a-price aok-align-center reinventPricePriceToPayMargin priceToPay\").get_text(strip=True)\n",
    "    price = price.strip()[1:]\n",
    "    rating = soup2.find(\"span\", class_=\"a-size-medium a-color-base\").get_text(strip=True)\n",
    "    rating = rating.strip()[:3]\n",
    "    import datetime\n",
    "    today = datetime.date.today()\n",
    "    import csv\n",
    "    header = ['Title', 'Price', 'Rating', 'Date']\n",
    "    data = [title, price, rating, today] \n",
    "    with open('AWSDataset.csv', 'a+', newline='', encoding='UTF8') as f:\n",
    "        writer = csv.writer(f)\n",
    "        writer.writerow(data)\n",
    "\n",
    "    if(price < 10):\n",
    "        send_mail()\n",
    "    "
   ]
  },
  {
   "cell_type": "code",
   "execution_count": null,
   "id": "55ca29b5-dafb-41db-af91-3ae9301d5572",
   "metadata": {},
   "outputs": [],
   "source": [
    "# Runs function after a set time and inputs data into tht csv\n",
    "\n",
    "while(True):\n",
    "    check_price()\n",
    "    time.sleep(86400)"
   ]
  },
  {
   "cell_type": "code",
   "execution_count": null,
   "id": "c72f9986-f53a-41e7-90d4-c9b2c07d112b",
   "metadata": {},
   "outputs": [],
   "source": [
    "import pandas as pd\n",
    "df = pd.read_csv(r'C:\\Users\\gusta\\AWSDataset.csv')\n",
    "print(df)"
   ]
  },
  {
   "cell_type": "code",
   "execution_count": null,
   "id": "69e665b4-5fa7-4833-99bc-d422ea75558f",
   "metadata": {},
   "outputs": [],
   "source": [
    "# Sending myself an email when a price hits below a certain level\n",
    "\n",
    "def send_mail():\n",
    "    server = smtplib.SMTP_SSL('smtp.gmail.com',465)\n",
    "    server.ehlo()\n",
    "    #server.starttls()\n",
    "    server.ehlo()\n",
    "    server.login('adrianapaiva.gvu@gmail.com','xxxxxxxxxxxxxx')\n",
    "    \n",
    "    subject = \"The product you want is below $10! Now is your chance to buy!\"\n",
    "    body = \"Adriana, This is the moment we have been waiting for. Now is your chance to buy it. Link here: https://www.amazon.co.uk/Console-Built-Gaming-Handheld-Immersive/dp/B01H7JD64S/ref=sr_1_8?crid=3EL7W5BETJ42G&dib=eyJ2IjoiMSJ9.BywvmPUALh3yuishmxxrc5TbQRpAN_CIbtlpiSn1DfvTSjijgChujDp5AgAJqgPzAbJUg4KIX2zbNScvg_gjPi2NmUkM1Ln4PJGY6t8ott04YgtE4ZaSpqUht23qXxa-iUseHZaQwOOKUo2L2waeCSOYOFZN_zCR0eo6lhTT8szQ8rimYs9AtgbHHULikoWMPZ2scQ6al3XneyikYrcAbok668Jv-jaoTsTmbcrpMmBJBxOOv-GEc6YreD6K6HHXljRzEKm7cPuLgY0L3MmascViXx_pOD89XzjoZpq7EVE.4PJ-XMS02Ql4xEPCFh0YHh5mN1w-JqWKfbrG1UYwpow&dib_tag=se&keywords=tech%2Bgadgets&qid=1723553215&sprefix=tech%2Caps%2C152&sr=8-8&th=1\"\n",
    "   \n",
    "    msg = f\"Subject: {subject}\\n\\n{body}\"\n",
    "    \n",
    "    server.sendmail(\n",
    "        'adrianapaiva.gvu@gmail.com',\n",
    "        msg\n",
    "     \n",
    "    )"
   ]
  },
  {
   "cell_type": "code",
   "execution_count": null,
   "id": "e6648a87-46e8-4af7-bc46-a61b745d9e76",
   "metadata": {},
   "outputs": [],
   "source": []
  }
 ],
 "metadata": {
  "kernelspec": {
   "display_name": "Python 3 (ipykernel)",
   "language": "python",
   "name": "python3"
  },
  "language_info": {
   "codemirror_mode": {
    "name": "ipython",
    "version": 3
   },
   "file_extension": ".py",
   "mimetype": "text/x-python",
   "name": "python",
   "nbconvert_exporter": "python",
   "pygments_lexer": "ipython3",
   "version": "3.12.4"
  }
 },
 "nbformat": 4,
 "nbformat_minor": 5
}
