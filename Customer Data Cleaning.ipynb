{
 "cells": [
  {
   "cell_type": "markdown",
   "id": "6be3cf54-1c1b-4c20-94a5-c6cebef25633",
   "metadata": {},
   "source": [
    "# Customer Data Cleaning"
   ]
  },
  {
   "cell_type": "markdown",
   "id": "04fb88f0-62c0-4d59-ba38-8f865448490e",
   "metadata": {},
   "source": [
    "The goal is to clean up this dataset of customers and give back to customer service department responsible for contacting each one of the customers in the list."
   ]
  },
  {
   "cell_type": "code",
   "execution_count": null,
   "id": "762ee59e-3a7e-4c20-89e8-09e6f812662a",
   "metadata": {},
   "outputs": [],
   "source": [
    "import pandas as pd"
   ]
  },
  {
   "cell_type": "code",
   "execution_count": null,
   "id": "0d9b1de5-2a2b-4c44-96bf-b9ac53bbc64a",
   "metadata": {},
   "outputs": [],
   "source": [
    "df = pd.read_excel(r\"C:\\Users\\gusta\\Downloads\\Customer Call List.xlsx\")\n",
    "df"
   ]
  },
  {
   "cell_type": "code",
   "execution_count": null,
   "id": "9a8b432b-200c-413b-8480-23bf00c8efc0",
   "metadata": {},
   "outputs": [],
   "source": [
    "# Starting by removing duplicates\n",
    "\n",
    "df = df.drop_duplicates()\n",
    "df"
   ]
  },
  {
   "cell_type": "code",
   "execution_count": null,
   "id": "3c826874-6871-4e41-b23e-9fee116b9bb9",
   "metadata": {},
   "outputs": [],
   "source": [
    "# Removing any irrelevant column\n",
    "\n",
    "df = df.drop(columns = \"Not_Useful_Column\")\n",
    "df"
   ]
  },
  {
   "cell_type": "code",
   "execution_count": null,
   "id": "129979d1-074a-49a3-9fde-c4b1abddc46c",
   "metadata": {},
   "outputs": [],
   "source": [
    "# Now I'm going to analyze column by column and take the steps that are necessary\n",
    "# Starndardizing the last names using string strip\n",
    "\n",
    "# df[\"Last_Name\"] = df[\"Last_Name\"].str.lstrip(\"...\")\n",
    "# df[\"Last_Name\"] = df[\"Last_Name\"].str.lstrip(\"/\")\n",
    "# df[\"Last_Name\"] = df[\"Last_Name\"].str.rstrip(\"_\")\n",
    "df[\"Last_Name\"] = df[\"Last_Name\"].str.strip(\"123./_\")\n",
    "df"
   ]
  },
  {
   "cell_type": "code",
   "execution_count": null,
   "id": "34b208b6-c427-4abe-ae74-2408e61a4c8b",
   "metadata": {},
   "outputs": [],
   "source": [
    "# Time to work on the phone numbers and standardize it.\n",
    "# I need to use each of these operations separately otherwise it doesnt work.\n",
    "# That's the reason some of them are commented out.\n",
    "\n",
    "# Using a regular expression (regex) pattern where r'\\D' indicates a raw string and a regex\n",
    "# pattern that matches all non-digit characters and replace with a empty string \"\"\n",
    "# regex=True specifies that replace function should be interpret as a regular expression pattern\n",
    "\n",
    "# Operation 1 \n",
    "# df['Phone_Number'] = df['Phone_Number'].str.replace(r'\\D', '', regex=True) \n",
    "\n",
    "\n",
    "# Using lambda to format it but before I need to change the entries from number to string\n",
    "# otherwise the 2nd lambda function(anonymous function) wont work. \n",
    "# lambda x: str(x) takes each value x and convert it to a string\n",
    "# this step ensures that all entries will be able to work with the next operation which is a \n",
    "# string slicing operation. \n",
    "# The second lambda operation extracts the characters specifies in numbers (e.g. x[0:3] means the first 3 characters)\n",
    "# and concatenates with '-' \n",
    "\n",
    "#Operation 2 and 3\n",
    "# df['Phone_Number'] = df['Phone_Number'].apply(lambda x: str(x))\n",
    "# df['Phone_Number'] = df['Phone_Number'].apply(lambda x: x[0:3] + '-' + x[3:6] + '-' + x[6:10])\n",
    "\n",
    "# Removing the -- from the nan values\n",
    "\n",
    "#Operarion 4 and 5\n",
    "# df['Phone_Number'] = df['Phone_Number'].str.replace('--', '')\n",
    "df['Phone_Number'] = df['Phone_Number'].str.replace('nan', '')\n",
    "df['Phone_Number']"
   ]
  },
  {
   "cell_type": "code",
   "execution_count": null,
   "id": "c3f45d69-57f7-4908-ae50-c8950cdf6280",
   "metadata": {},
   "outputs": [],
   "source": [
    "# Splitting the address into separate columns\n",
    "\n",
    "df[[\"Street_Address\", \"State\", \"Zip_Code\"]] = df[\"Address\"].str.split(',', expand=True)\n",
    "df"
   ]
  },
  {
   "cell_type": "code",
   "execution_count": null,
   "id": "a5819f61-302e-4308-9db5-fda3494f38e9",
   "metadata": {},
   "outputs": [],
   "source": [
    "# Standirdizing Yes and No answers\n",
    "\n",
    "df[\"Do_Not_Contact\"] = df[\"Do_Not_Contact\"].str.replace('Yes', 'Y')\n",
    "df[\"Do_Not_Contact\"] = df[\"Do_Not_Contact\"].str.replace('No', 'N')\n",
    "df"
   ]
  },
  {
   "cell_type": "code",
   "execution_count": null,
   "id": "cefd5b20-4fff-423d-a696-3062d1e20fdf",
   "metadata": {},
   "outputs": [],
   "source": [
    "# Cleaning and filling the N/a and NaN values from the entire dataset\n",
    "\n",
    "df = df.replace('N/a', '')\n",
    "\n",
    "df = df.fillna('')"
   ]
  },
  {
   "cell_type": "code",
   "execution_count": null,
   "id": "ab886eff-7015-4c9f-bf35-9844c27d4ca5",
   "metadata": {},
   "outputs": [],
   "source": [
    "# Filtering down rows of data so the CS dept only has numbers they can actually call\n",
    "\n",
    "for x in df.index:\n",
    "   if df.loc[x, \"Do_Not_Contact\"] == 'Y':\n",
    "    df.drop(x, inplace=True)\n",
    "df"
   ]
  },
  {
   "cell_type": "code",
   "execution_count": null,
   "id": "c7e9f2e8-d86c-46ac-92d4-891425c949e7",
   "metadata": {},
   "outputs": [],
   "source": [
    "for x in df.index:\n",
    "   if df.loc[x, \"Phone_Number\"] == '':\n",
    "    df.drop(x, inplace=True)\n",
    "df\n",
    "\n",
    "#Another way to drop the null values\n",
    "# df.dropna(subset=\"Phone_Number\"), inplace=True))"
   ]
  },
  {
   "cell_type": "code",
   "execution_count": null,
   "id": "342e7705-3d12-41cd-87ce-77ce67be5e9e",
   "metadata": {},
   "outputs": [],
   "source": [
    "# Resetting index \n",
    "\n",
    "df = df.reset_index(drop=True)\n",
    "df"
   ]
  },
  {
   "cell_type": "code",
   "execution_count": null,
   "id": "92686e5b-4dad-4609-abc1-53adef01a6eb",
   "metadata": {},
   "outputs": [],
   "source": []
  },
  {
   "cell_type": "code",
   "execution_count": null,
   "id": "fa44a2a5-08af-4f9b-baf7-1dafbfc36f4a",
   "metadata": {},
   "outputs": [],
   "source": []
  },
  {
   "cell_type": "code",
   "execution_count": null,
   "id": "f49a01f6-656f-4ce5-ae75-b6829ae84a0c",
   "metadata": {},
   "outputs": [],
   "source": []
  },
  {
   "cell_type": "code",
   "execution_count": null,
   "id": "65e3ec05-5638-4eba-8dea-86c8c33ce24c",
   "metadata": {},
   "outputs": [],
   "source": []
  },
  {
   "cell_type": "code",
   "execution_count": null,
   "id": "a9f0984b-3992-4e82-ab1c-47bfb73e3fb3",
   "metadata": {},
   "outputs": [],
   "source": []
  },
  {
   "cell_type": "code",
   "execution_count": null,
   "id": "b99310be-7cb5-4466-a696-b30c7f718a26",
   "metadata": {},
   "outputs": [],
   "source": []
  },
  {
   "cell_type": "code",
   "execution_count": null,
   "id": "1731554b-22e2-4bf8-b45b-a0aeac2292f0",
   "metadata": {},
   "outputs": [],
   "source": []
  },
  {
   "cell_type": "code",
   "execution_count": null,
   "id": "8db54216-085d-46a0-9d11-25ee0e284ef2",
   "metadata": {},
   "outputs": [],
   "source": []
  }
 ],
 "metadata": {
  "kernelspec": {
   "display_name": "Python 3 (ipykernel)",
   "language": "python",
   "name": "python3"
  },
  "language_info": {
   "codemirror_mode": {
    "name": "ipython",
    "version": 3
   },
   "file_extension": ".py",
   "mimetype": "text/x-python",
   "name": "python",
   "nbconvert_exporter": "python",
   "pygments_lexer": "ipython3",
   "version": "3.12.4"
  }
 },
 "nbformat": 4,
 "nbformat_minor": 5
}
